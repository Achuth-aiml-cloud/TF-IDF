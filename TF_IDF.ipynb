{
  "nbformat": 4,
  "nbformat_minor": 0,
  "metadata": {
    "colab": {
      "name": "TF*IDF.ipynb",
      "provenance": []
    },
    "kernelspec": {
      "name": "python3",
      "display_name": "Python 3"
    },
    "language_info": {
      "name": "python"
    }
  },
  "cells": [
    {
      "cell_type": "markdown",
      "metadata": {
        "id": "hrimeIaCcnxO"
      },
      "source": [
        "***TF-IDF*** : Term Frequency and inverse document frequency"
      ]
    },
    {
      "cell_type": "markdown",
      "metadata": {
        "id": "2Twvp8Rvc3fQ"
      },
      "source": [
        "tf = (total no of repeated words / to no of words in that sentence )\n",
        "\n",
        "---\n",
        "\n",
        "\n",
        "idf = log( total no of sentences / total no of sentences that containing the particular word)"
      ]
    },
    {
      "cell_type": "code",
      "metadata": {
        "id": "zl7yWoMrdWrr"
      },
      "source": [
        "import nltk"
      ],
      "execution_count": 1,
      "outputs": []
    },
    {
      "cell_type": "code",
      "metadata": {
        "id": "A0fJzwJxc0Vc"
      },
      "source": [
        "paragraph = \"\"\"At SpaceX, Musk oversees the development of rockets and spacecraft for missions to Earth orbit and ultimately to other planets. In 2008, SpaceX’s Falcon 9 rocket and Dragon spacecraft won the NASA contract to provide cargo transport to space. In 2012, SpaceX became the first commercial company to dock with the International Space Station and return cargo to Earth with the Dragon.\n",
        "\n",
        "At Tesla, Musk has overseen product development and design from the beginning, including the all-electric Tesla Roadster, Model S and Model X, and the rollout of Supercharger stations to keep the cars juiced up. (Some of the charging stations use solar energy systems from SolarCity, of which Musk is the non-executive chair.) Transitioning to a sustainable energy economy, in which electric vehicles play a pivotal role, has been one of his central interests for almost two decades. Before this, he co-founded PayPal and served as the company's chair and CEO.\"\"\""
      ],
      "execution_count": 2,
      "outputs": []
    },
    {
      "cell_type": "code",
      "metadata": {
        "id": "fh_iamtTdhp-"
      },
      "source": [
        "import re\n",
        "from nltk.corpus import stopwords\n",
        "from nltk.stem import PorterStemmer\n",
        "from nltk.stem import WordNetLemmatizer"
      ],
      "execution_count": 3,
      "outputs": []
    },
    {
      "cell_type": "code",
      "metadata": {
        "colab": {
          "base_uri": "https://localhost:8080/"
        },
        "id": "3RKhY41Fdv_H",
        "outputId": "ddccdea8-8ad0-478e-b1c1-bedea0344421"
      },
      "source": [
        "nltk.download('punkt')"
      ],
      "execution_count": 4,
      "outputs": [
        {
          "output_type": "stream",
          "text": [
            "[nltk_data] Downloading package punkt to /root/nltk_data...\n",
            "[nltk_data]   Unzipping tokenizers/punkt.zip.\n"
          ],
          "name": "stdout"
        },
        {
          "output_type": "execute_result",
          "data": {
            "text/plain": [
              "True"
            ]
          },
          "metadata": {
            "tags": []
          },
          "execution_count": 4
        }
      ]
    },
    {
      "cell_type": "code",
      "metadata": {
        "id": "n78go14qeKrA"
      },
      "source": [
        "sentences = nltk.sent_tokenize(paragraph)"
      ],
      "execution_count": 5,
      "outputs": []
    },
    {
      "cell_type": "code",
      "metadata": {
        "colab": {
          "base_uri": "https://localhost:8080/"
        },
        "id": "c5qDaMVyeSMZ",
        "outputId": "ef6c5f78-deb2-47f8-b479-a28ecc61a283"
      },
      "source": [
        "sentences"
      ],
      "execution_count": 6,
      "outputs": [
        {
          "output_type": "execute_result",
          "data": {
            "text/plain": [
              "['At SpaceX, Musk oversees the development of rockets and spacecraft for missions to Earth orbit and ultimately to other planets.',\n",
              " 'In 2008, SpaceX’s Falcon 9 rocket and Dragon spacecraft won the NASA contract to provide cargo transport to space.',\n",
              " 'In 2012, SpaceX became the first commercial company to dock with the International Space Station and return cargo to Earth with the Dragon.',\n",
              " 'At Tesla, Musk has overseen product development and design from the beginning, including the all-electric Tesla Roadster, Model S and Model X, and the rollout of Supercharger stations to keep the cars juiced up.',\n",
              " '(Some of the charging stations use solar energy systems from SolarCity, of which Musk is the non-executive chair.)',\n",
              " 'Transitioning to a sustainable energy economy, in which electric vehicles play a pivotal role, has been one of his central interests for almost two decades.',\n",
              " \"Before this, he co-founded PayPal and served as the company's chair and CEO.\"]"
            ]
          },
          "metadata": {
            "tags": []
          },
          "execution_count": 6
        }
      ]
    },
    {
      "cell_type": "code",
      "metadata": {
        "colab": {
          "base_uri": "https://localhost:8080/"
        },
        "id": "2MKkYYpHgJ01",
        "outputId": "3e37b2eb-39ef-4e0b-b53c-83be6a9ab2e5"
      },
      "source": [
        "nltk.download('stopwords')"
      ],
      "execution_count": 9,
      "outputs": [
        {
          "output_type": "stream",
          "text": [
            "[nltk_data] Downloading package stopwords to /root/nltk_data...\n",
            "[nltk_data]   Unzipping corpora/stopwords.zip.\n"
          ],
          "name": "stdout"
        },
        {
          "output_type": "execute_result",
          "data": {
            "text/plain": [
              "True"
            ]
          },
          "metadata": {
            "tags": []
          },
          "execution_count": 9
        }
      ]
    },
    {
      "cell_type": "code",
      "metadata": {
        "colab": {
          "base_uri": "https://localhost:8080/"
        },
        "id": "dZ12l7WjgS5t",
        "outputId": "7fe94ae5-f85e-40cc-dcb4-8510bd1fc075"
      },
      "source": [
        "nltk.download('wordnet')"
      ],
      "execution_count": 11,
      "outputs": [
        {
          "output_type": "stream",
          "text": [
            "[nltk_data] Downloading package wordnet to /root/nltk_data...\n",
            "[nltk_data]   Unzipping corpora/wordnet.zip.\n"
          ],
          "name": "stdout"
        },
        {
          "output_type": "execute_result",
          "data": {
            "text/plain": [
              "True"
            ]
          },
          "metadata": {
            "tags": []
          },
          "execution_count": 11
        }
      ]
    },
    {
      "cell_type": "code",
      "metadata": {
        "id": "vyrELM1eeT9s"
      },
      "source": [
        "wnl = WordNetLemmatizer()\n",
        "empty_list = []\n",
        "for i in range(len(sentences)):\n",
        "  clean_us_lem = re.sub('[^a-zA-Z]',' ',sentences[i])\n",
        "  clean_us_lem = clean_us_lem.lower()\n",
        "  clean_us_lem = clean_us_lem.split()\n",
        "  clean_us_lem = [wnl.lemmatize(word) for word in clean_us_lem if word not in set(stopwords.words('english'))]\n",
        "  clean_us_lem = \" \".join(clean_us_lem)\n",
        "  empty_list.append(clean_us_lem)"
      ],
      "execution_count": 12,
      "outputs": []
    },
    {
      "cell_type": "code",
      "metadata": {
        "colab": {
          "base_uri": "https://localhost:8080/"
        },
        "id": "6ra2tOEQgXwB",
        "outputId": "c362a0d4-755f-4288-ca85-af9b11d43fca"
      },
      "source": [
        "empty_list"
      ],
      "execution_count": 13,
      "outputs": [
        {
          "output_type": "execute_result",
          "data": {
            "text/plain": [
              "['spacex musk oversees development rocket spacecraft mission earth orbit ultimately planet',\n",
              " 'spacex falcon rocket dragon spacecraft nasa contract provide cargo transport space',\n",
              " 'spacex became first commercial company dock international space station return cargo earth dragon',\n",
              " 'tesla musk overseen product development design beginning including electric tesla roadster model model x rollout supercharger station keep car juiced',\n",
              " 'charging station use solar energy system solarcity musk non executive chair',\n",
              " 'transitioning sustainable energy economy electric vehicle play pivotal role one central interest almost two decade',\n",
              " 'co founded paypal served company chair ceo']"
            ]
          },
          "metadata": {
            "tags": []
          },
          "execution_count": 13
        }
      ]
    },
    {
      "cell_type": "code",
      "metadata": {
        "id": "xO8ktN3SjdJ7"
      },
      "source": [
        "#tfidf model\n",
        "from sklearn.feature_extraction.text import TfidfVectorizer\n",
        "final_matrix = TfidfVectorizer().fit_transform(empty_list).toarray()"
      ],
      "execution_count": 15,
      "outputs": []
    },
    {
      "cell_type": "code",
      "metadata": {
        "colab": {
          "base_uri": "https://localhost:8080/"
        },
        "id": "Iw4bdjmOlo40",
        "outputId": "a81247ba-9d6e-4ae8-b400-e602c854d4a8"
      },
      "source": [
        "final_matrix"
      ],
      "execution_count": 17,
      "outputs": [
        {
          "output_type": "execute_result",
          "data": {
            "text/plain": [
              "array([[0.        , 0.        , 0.        , 0.        , 0.        ,\n",
              "        0.        , 0.        , 0.        , 0.        , 0.        ,\n",
              "        0.        , 0.        , 0.        , 0.        , 0.        ,\n",
              "        0.28041145, 0.        , 0.        , 0.28041145, 0.        ,\n",
              "        0.        , 0.        , 0.        , 0.        , 0.        ,\n",
              "        0.        , 0.        , 0.        , 0.        , 0.        ,\n",
              "        0.        , 0.33781016, 0.        , 0.23968641, 0.        ,\n",
              "        0.        , 0.        , 0.33781016, 0.        , 0.33781016,\n",
              "        0.        , 0.        , 0.33781016, 0.        , 0.        ,\n",
              "        0.        , 0.        , 0.        , 0.28041145, 0.        ,\n",
              "        0.        , 0.        , 0.        , 0.        , 0.        ,\n",
              "        0.28041145, 0.23968641, 0.        , 0.        , 0.        ,\n",
              "        0.        , 0.        , 0.        , 0.        , 0.        ,\n",
              "        0.33781016, 0.        , 0.        ],\n",
              "       [0.        , 0.        , 0.        , 0.        , 0.27748811,\n",
              "        0.        , 0.        , 0.        , 0.        , 0.        ,\n",
              "        0.        , 0.        , 0.33428843, 0.        , 0.        ,\n",
              "        0.        , 0.        , 0.27748811, 0.        , 0.        ,\n",
              "        0.        , 0.        , 0.        , 0.33428843, 0.        ,\n",
              "        0.        , 0.        , 0.        , 0.        , 0.        ,\n",
              "        0.        , 0.        , 0.        , 0.        , 0.33428843,\n",
              "        0.        , 0.        , 0.        , 0.        , 0.        ,\n",
              "        0.        , 0.        , 0.        , 0.        , 0.        ,\n",
              "        0.33428843, 0.        , 0.        , 0.27748811, 0.        ,\n",
              "        0.        , 0.        , 0.        , 0.        , 0.27748811,\n",
              "        0.27748811, 0.23718763, 0.        , 0.        , 0.        ,\n",
              "        0.        , 0.        , 0.        , 0.33428843, 0.        ,\n",
              "        0.        , 0.        , 0.        ],\n",
              "       [0.        , 0.30931336, 0.        , 0.        , 0.25675665,\n",
              "        0.        , 0.        , 0.        , 0.        , 0.        ,\n",
              "        0.30931336, 0.25675665, 0.        , 0.        , 0.        ,\n",
              "        0.        , 0.30931336, 0.25675665, 0.25675665, 0.        ,\n",
              "        0.        , 0.        , 0.        , 0.        , 0.30931336,\n",
              "        0.        , 0.        , 0.        , 0.30931336, 0.        ,\n",
              "        0.        , 0.        , 0.        , 0.        , 0.        ,\n",
              "        0.        , 0.        , 0.        , 0.        , 0.        ,\n",
              "        0.        , 0.        , 0.        , 0.        , 0.        ,\n",
              "        0.        , 0.30931336, 0.        , 0.        , 0.        ,\n",
              "        0.        , 0.        , 0.        , 0.        , 0.25675665,\n",
              "        0.        , 0.21946707, 0.21946707, 0.        , 0.        ,\n",
              "        0.        , 0.        , 0.        , 0.        , 0.        ,\n",
              "        0.        , 0.        , 0.        ],\n",
              "       [0.        , 0.        , 0.2162449 , 0.2162449 , 0.        ,\n",
              "        0.        , 0.        , 0.        , 0.        , 0.        ,\n",
              "        0.        , 0.        , 0.        , 0.        , 0.2162449 ,\n",
              "        0.17950184, 0.        , 0.        , 0.        , 0.        ,\n",
              "        0.17950184, 0.        , 0.        , 0.        , 0.        ,\n",
              "        0.        , 0.2162449 , 0.        , 0.        , 0.2162449 ,\n",
              "        0.2162449 , 0.        , 0.4324898 , 0.15343222, 0.        ,\n",
              "        0.        , 0.        , 0.        , 0.2162449 , 0.        ,\n",
              "        0.        , 0.        , 0.        , 0.        , 0.2162449 ,\n",
              "        0.        , 0.        , 0.2162449 , 0.        , 0.        ,\n",
              "        0.2162449 , 0.        , 0.        , 0.        , 0.        ,\n",
              "        0.        , 0.        , 0.15343222, 0.2162449 , 0.        ,\n",
              "        0.        , 0.4324898 , 0.        , 0.        , 0.        ,\n",
              "        0.        , 0.        , 0.        ],\n",
              "       [0.        , 0.        , 0.        , 0.        , 0.        ,\n",
              "        0.        , 0.        , 0.27096115, 0.32642545, 0.        ,\n",
              "        0.        , 0.        , 0.        , 0.        , 0.        ,\n",
              "        0.        , 0.        , 0.        , 0.        , 0.        ,\n",
              "        0.        , 0.27096115, 0.32642545, 0.        , 0.        ,\n",
              "        0.        , 0.        , 0.        , 0.        , 0.        ,\n",
              "        0.        , 0.        , 0.        , 0.23160861, 0.        ,\n",
              "        0.32642545, 0.        , 0.        , 0.        , 0.        ,\n",
              "        0.        , 0.        , 0.        , 0.        , 0.        ,\n",
              "        0.        , 0.        , 0.        , 0.        , 0.        ,\n",
              "        0.        , 0.        , 0.32642545, 0.32642545, 0.        ,\n",
              "        0.        , 0.        , 0.23160861, 0.        , 0.        ,\n",
              "        0.32642545, 0.        , 0.        , 0.        , 0.        ,\n",
              "        0.        , 0.32642545, 0.        ],\n",
              "       [0.26372389, 0.        , 0.        , 0.        , 0.        ,\n",
              "        0.26372389, 0.        , 0.        , 0.        , 0.        ,\n",
              "        0.        , 0.        , 0.        , 0.26372389, 0.        ,\n",
              "        0.        , 0.        , 0.        , 0.        , 0.26372389,\n",
              "        0.21891348, 0.21891348, 0.        , 0.        , 0.        ,\n",
              "        0.        , 0.        , 0.26372389, 0.        , 0.        ,\n",
              "        0.        , 0.        , 0.        , 0.        , 0.        ,\n",
              "        0.        , 0.26372389, 0.        , 0.        , 0.        ,\n",
              "        0.        , 0.26372389, 0.        , 0.26372389, 0.        ,\n",
              "        0.        , 0.        , 0.        , 0.        , 0.26372389,\n",
              "        0.        , 0.        , 0.        , 0.        , 0.        ,\n",
              "        0.        , 0.        , 0.        , 0.        , 0.26372389,\n",
              "        0.        , 0.        , 0.26372389, 0.        , 0.26372389,\n",
              "        0.        , 0.        , 0.26372389],\n",
              "       [0.        , 0.        , 0.        , 0.        , 0.        ,\n",
              "        0.        , 0.39596322, 0.32868348, 0.        , 0.39596322,\n",
              "        0.        , 0.32868348, 0.        , 0.        , 0.        ,\n",
              "        0.        , 0.        , 0.        , 0.        , 0.        ,\n",
              "        0.        , 0.        , 0.        , 0.        , 0.        ,\n",
              "        0.39596322, 0.        , 0.        , 0.        , 0.        ,\n",
              "        0.        , 0.        , 0.        , 0.        , 0.        ,\n",
              "        0.        , 0.        , 0.        , 0.        , 0.        ,\n",
              "        0.39596322, 0.        , 0.        , 0.        , 0.        ,\n",
              "        0.        , 0.        , 0.        , 0.        , 0.        ,\n",
              "        0.        , 0.39596322, 0.        , 0.        , 0.        ,\n",
              "        0.        , 0.        , 0.        , 0.        , 0.        ,\n",
              "        0.        , 0.        , 0.        , 0.        , 0.        ,\n",
              "        0.        , 0.        , 0.        ]])"
            ]
          },
          "metadata": {
            "tags": []
          },
          "execution_count": 17
        }
      ]
    }
  ]
}